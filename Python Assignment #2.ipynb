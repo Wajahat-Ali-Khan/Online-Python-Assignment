{
 "cells": [
  {
   "cell_type": "code",
   "execution_count": 25,
   "metadata": {},
   "outputs": [
    {
     "name": "stdout",
     "output_type": "stream",
     "text": [
      "CHEMISTRY MARKS : 38\n",
      "PYSICS MARKS : 45\n",
      "PST MARKS : 87\n",
      "ENGLISH MARKS : 89\n",
      "MATH MARKS : 56\n",
      "TOTAL NUMBERS YOU ACHIEVED : 315\n",
      "Your Result\n",
      "Grade = B\n"
     ]
    }
   ],
   "source": [
    "#QUESTION #1\n",
    "chem=int( input(\"CHEMISTRY MARKS : \"))\n",
    "phy=int( input(\"PYSICS MARKS : \"))\n",
    "pst= int( input(\"PST MARKS : \"))\n",
    "eng=int( input(\"ENGLISH MARKS : \"))\n",
    "math= int( input(\"MATH MARKS : \"))\n",
    "total=math+eng+pst+phy+chem\n",
    "print(\"TOTAL NUMBERS YOU ACHIEVED : \" + str(total))\n",
    "per = total*100/500\n",
    "print(\"Your Result\")\n",
    "if per >= 70:\n",
    "    print(\"Grade = A\")\n",
    "elif per < 70:\n",
    "    print(\"Grade = B\")\n",
    "else:\n",
    "    print(\"Not Found\")\n"
   ]
  },
  {
   "cell_type": "code",
   "execution_count": 21,
   "metadata": {},
   "outputs": [
    {
     "name": "stdout",
     "output_type": "stream",
     "text": [
      "Enter Your Number : 40\n",
      "Entered number is even\n"
     ]
    }
   ],
   "source": [
    "#QUESTION #2\n",
    "number=int(input(\"Enter Your Number : \"))\n",
    "if number%2==0:\n",
    "    print(\"Entered number is even\")\n",
    "else:\n",
    "    print('Entered number is odd')"
   ]
  },
  {
   "cell_type": "code",
   "execution_count": 4,
   "metadata": {},
   "outputs": [
    {
     "name": "stdout",
     "output_type": "stream",
     "text": [
      "6\n"
     ]
    }
   ],
   "source": [
    "#QUESTION #3\n",
    "lst=[10,14,20,30,1623,112]\n",
    "print(len(lst))"
   ]
  },
  {
   "cell_type": "code",
   "execution_count": 6,
   "metadata": {},
   "outputs": [
    {
     "name": "stdout",
     "output_type": "stream",
     "text": [
      "1809\n"
     ]
    }
   ],
   "source": [
    "#QUESTION #4\n",
    "print(sum(lst))"
   ]
  },
  {
   "cell_type": "code",
   "execution_count": 5,
   "metadata": {},
   "outputs": [
    {
     "name": "stdout",
     "output_type": "stream",
     "text": [
      "1623\n"
     ]
    }
   ],
   "source": [
    "#QUESTION #5\n",
    "print(max(lst))"
   ]
  },
  {
   "cell_type": "code",
   "execution_count": 26,
   "metadata": {},
   "outputs": [
    {
     "name": "stdout",
     "output_type": "stream",
     "text": [
      "1\n",
      "1\n",
      "2\n",
      "3\n"
     ]
    }
   ],
   "source": [
    "#Question #6\n",
    "a = [1, 1, 2, 3, 5, 8, 13, 21, 34, 55, 89]\n",
    "for num in a:\n",
    "    if num < 5:\n",
    "        print(num)"
   ]
  }
 ],
 "metadata": {
  "kernelspec": {
   "display_name": "Python 3",
   "language": "python",
   "name": "python3"
  },
  "language_info": {
   "codemirror_mode": {
    "name": "ipython",
    "version": 3
   },
   "file_extension": ".py",
   "mimetype": "text/x-python",
   "name": "python",
   "nbconvert_exporter": "python",
   "pygments_lexer": "ipython3",
   "version": "3.7.3"
  }
 },
 "nbformat": 4,
 "nbformat_minor": 2
}
