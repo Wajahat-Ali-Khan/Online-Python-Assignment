{
 "cells": [
  {
   "cell_type": "code",
   "execution_count": 12,
   "metadata": {},
   "outputs": [
    {
     "name": "stdout",
     "output_type": "stream",
     "text": [
      "Twinkle, twinkle, little star,\n",
      "\tHow I wonder what you are!\n",
      "\t\tUp above the world so high,\n",
      "\t\tLike a diamond in the sky.\n",
      "Twinkle, twinkle, little star,\n",
      "\tHow I wonder what you are\n"
     ]
    }
   ],
   "source": [
    "# QUESTION #1\n",
    "print(\"Twinkle, twinkle, little star,\\n\\tHow I wonder what you are!\\n\\t\\tUp above the world so high,\\n\\t\\tLike a diamond in the sky.\\nTwinkle, twinkle, little star,\\n\\tHow I wonder what you are\")"
   ]
  },
  {
   "cell_type": "code",
   "execution_count": 13,
   "metadata": {},
   "outputs": [
    {
     "name": "stdout",
     "output_type": "stream",
     "text": [
      "python version : 3.7.3\n"
     ]
    }
   ],
   "source": [
    "#QUESTION #2\n",
    "from platform import python_version\n",
    "print(\"python version : \"+python_version())"
   ]
  },
  {
   "cell_type": "code",
   "execution_count": 7,
   "metadata": {},
   "outputs": [
    {
     "name": "stdout",
     "output_type": "stream",
     "text": [
      "now = 2019-11-22 12:25:40.865769\n"
     ]
    }
   ],
   "source": [
    "#QUESTION #3\n",
    "from datetime import datetime\n",
    "# datetime object containing current date and time.\n",
    "now = datetime. now()\n",
    "print(\"now =\", now)\n"
   ]
  },
  {
   "cell_type": "code",
   "execution_count": 3,
   "metadata": {},
   "outputs": [
    {
     "name": "stdout",
     "output_type": "stream",
     "text": [
      "Enter the radius of circle:4\n",
      "50.272\n"
     ]
    }
   ],
   "source": [
    "# QUESTION #4\n",
    "radius=float(input(\"Enter the radius of circle:\"))\n",
    "PI=3.142\n",
    "area=(PI)*(radius)*(radius)\n",
    "print(area)"
   ]
  },
  {
   "cell_type": "code",
   "execution_count": 2,
   "metadata": {},
   "outputs": [
    {
     "name": "stdout",
     "output_type": "stream",
     "text": [
      "ENTER FIRST NAME : QW\n",
      "ENTER LAST NAME : QWQQWQ\n",
      "QWQQWQ QW\n"
     ]
    }
   ],
   "source": [
    "# QUESTION #5\n",
    "FNAME=input(\"ENTER FIRST NAME : \")\n",
    "LNAME=input(\"ENTER LAST NAME : \")\n",
    "print(LNAME +\" \" +FNAME)"
   ]
  },
  {
   "cell_type": "code",
   "execution_count": 1,
   "metadata": {},
   "outputs": [
    {
     "name": "stdout",
     "output_type": "stream",
     "text": [
      "ENTER 1 NUMBER: 12\n",
      "ENTER 2 NUMBER : 12\n",
      "24\n"
     ]
    }
   ],
   "source": [
    "# QUESTION #6\n",
    "num1=int(input(\"ENTER 1 NUMBER: \"))\n",
    "num2=int(input(\"ENTER 2 NUMBER : \"))\n",
    "print(num1+num2)"
   ]
  },
  {
   "cell_type": "code",
   "execution_count": null,
   "metadata": {},
   "outputs": [],
   "source": []
  }
 ],
 "metadata": {
  "kernelspec": {
   "display_name": "Python 3",
   "language": "python",
   "name": "python3"
  },
  "language_info": {
   "codemirror_mode": {
    "name": "ipython",
    "version": 3
   },
   "file_extension": ".py",
   "mimetype": "text/x-python",
   "name": "python",
   "nbconvert_exporter": "python",
   "pygments_lexer": "ipython3",
   "version": "3.7.3"
  }
 },
 "nbformat": 4,
 "nbformat_minor": 2
}
